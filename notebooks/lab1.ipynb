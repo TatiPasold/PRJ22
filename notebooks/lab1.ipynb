{
 "cells": [
  {
   "cell_type": "code",
   "execution_count": null,
   "metadata": {},
   "outputs": [],
   "source": [
    "import pandas as pd\n",
    "import matplotlib.pyplot as plt\n",
    "import numpy as np\n",
    "import seaborn as sns"
   ]
  },
  {
   "cell_type": "markdown",
   "metadata": {},
   "source": [
    "### Dados"
   ]
  },
  {
   "cell_type": "code",
   "execution_count": null,
   "metadata": {},
   "outputs": [],
   "source": [
    "# Importar dados\n",
    "df = pd.read_csv('https://docs.google.com/spreadsheets/d/e/2PACX-1vSr7tU5tK8cvvR32yypE1PArgXhmNbFJ9bw8w6Sm2zQhyaMs27csoo-77vgFedHw9z25Ez3Qm-geKyU/pub?gid=43084471&single=true&output=csv', skiprows= 1)\n",
    "\n",
    "df.drop(columns='Unnamed: 0', inplace= True)\n",
    "df.reset_index(drop = True)\n",
    "df"
   ]
  },
  {
   "cell_type": "code",
   "execution_count": null,
   "metadata": {},
   "outputs": [],
   "source": [
    "df = df[(df[\"Parameter\"] == \"E175\") | (df[\"Parameter\"] == \"RJ70\") | (df[\"Parameter\"] == \"Fokker 100\") | (df[\"Parameter\"] == \"B717-200\") | (df[\"Parameter\"] == \"ARJ21-700\") | (df[\"Parameter\"] == \"A220\") | (df[\"Parameter\"] == \"CRJ900\")]"
   ]
  },
  {
   "cell_type": "markdown",
   "metadata": {},
   "source": [
    "## Matriz de correlação"
   ]
  },
  {
   "cell_type": "code",
   "execution_count": null,
   "metadata": {},
   "outputs": [
    {
     "data": {
      "text/plain": [
       "\n",
       "Pares de colunas com correlação > 0.8:\n",
       "MTOW (kg) e Number_of_passengers: 0.90\n",
       "MTOW (kg) e Wing_area (m²): 0.89\n",
       "MTOW (kg) e Wing_area (ft²): 0.89\n",
       "MTOW (kg) e VT_taper_ratio: 0.95\n",
       "Number_of_passengers e MTOW (kg): 0.90\n",
       "Number_of_passengers e HT_aspect_ratio: -0.90\n",
       "Number_of_passengers e VT_aspect_ratio: -0.84\n",
       "Number_of_passengers e VT_taper_ratio: 0.87\n",
       "Baggage_compartment_volume (m³) e Baggage_compartment_volume (ft³): 1.00\n",
       "Baggage_compartment_volume (ft³) e Baggage_compartment_volume (m³): 1.00\n",
       "Range (NM) e VT_sweep: 0.87\n",
       "Range (NM) e CVT: -0.82\n",
       "Cruise_Mach e Wing_taper_ratio: -0.94\n",
       "Cruise_Mach e Wing_sweep(deg): 0.93\n",
       "Cruise_Mach e Wing_dihedral (deg): 0.98\n",
       "Cruise_Mach e Fuselage_length (m): 0.84\n",
       "Cruise_Mach e Main_section_length(m): 0.89\n",
       "Cruise_Mach e Number_of_engines: -0.93\n",
       "Cruise_Mach e Engine_TSFC: 0.94\n",
       "Takeoff_distance(m) e Landing_distance(m): 0.90\n",
       "Takeoff_distance(m) e HT_sweep (deg): 0.89\n",
       "Takeoff_distance(m) e VT_sweep: 0.94\n",
       "Takeoff_distance(m) e Number_of_doors: -0.94\n",
       "Takeoff_distance(m) e Number_of_window_exits: 0.95\n",
       "Landing_distance(m) e Takeoff_distance(m): 0.90\n",
       "Landing_distance(m) e HT_sweep (deg): 0.95\n",
       "Wing_area (m²) e MTOW (kg): 0.89\n",
       "Wing_area (m²) e Wing_area (ft²): 1.00\n",
       "Wing_area (m²) e HT_taper_ratio: -0.93\n",
       "Wing_area (m²) e HT_lever_arm (ft): 0.93\n",
       "Wing_area (ft²) e MTOW (kg): 0.89\n",
       "Wing_area (ft²) e Wing_area (m²): 1.00\n",
       "Wing_area (ft²) e HT_taper_ratio: -0.93\n",
       "Wing_area (ft²) e HT_lever_arm (ft): 0.93\n",
       "Wing_aspect_ratio e CHT: -0.89\n",
       "Wing_aspect_ratio e VT_area (ft2): 0.82\n",
       "Wing_aspect_ratio e VT_area (m2): 0.82\n",
       "Wing_aspect_ratio e VT_lever_arm(ft): -0.84\n",
       "Wing_aspect_ratio e CVT: -0.93\n",
       "Wing_taper_ratio e Cruise_Mach: -0.94\n",
       "Wing_taper_ratio e Wing_sweep(deg): -0.92\n",
       "Wing_taper_ratio e Wing_dihedral (deg): -0.87\n",
       "Wing_taper_ratio e HT_sweep (deg): -0.81\n",
       "Wing_taper_ratio e Fuselage_length (m): -0.96\n",
       "Wing_taper_ratio e Main_section_length(m): -0.98\n",
       "Wing_taper_ratio e Fuselage_diameter (m): 0.85\n",
       "Wing_taper_ratio e Number_of_engines: 1.00\n",
       "Wing_taper_ratio e Engine_TSFC: -0.96\n",
       "Wing_sweep(deg) e Cruise_Mach: 0.93\n",
       "Wing_sweep(deg) e Wing_taper_ratio: -0.92\n",
       "Wing_sweep(deg) e Wing_dihedral (deg): 0.87\n",
       "Wing_sweep(deg) e HT_sweep (deg): 0.83\n",
       "Wing_sweep(deg) e Fuselage_length (m): 0.92\n",
       "Wing_sweep(deg) e Main_section_length(m): 0.87\n",
       "Wing_sweep(deg) e Number_of_engines: -0.92\n",
       "Wing_sweep(deg) e Engine_TSFC: 0.84\n",
       "Wing_dihedral (deg) e Cruise_Mach: 0.98\n",
       "Wing_dihedral (deg) e Wing_taper_ratio: -0.87\n",
       "Wing_dihedral (deg) e Wing_sweep(deg): 0.87\n",
       "Wing_dihedral (deg) e VT_aspect_ratio: 0.81\n",
       "Wing_dihedral (deg) e Main_section_length(m): 0.82\n",
       "Wing_dihedral (deg) e Number_of_engines: -0.86\n",
       "Wing_dihedral (deg) e Engine_TSFC: 0.91\n",
       "HT_area (m2) e VT_area (ft2): 0.86\n",
       "HT_area (m2) e VT_area (m2): 0.86\n",
       "HT_area (m2) e Cockpit_length(m): 0.96\n",
       "HT_area (m2) e Fuselage_diameter (m): 0.82\n",
       "HT_area (m2) e Wing_loading: 0.93\n",
       "HT_aspect_ratio e Number_of_passengers: -0.90\n",
       "HT_aspect_ratio e CHT: -0.80\n",
       "HT_aspect_ratio e VT_aspect_ratio: 0.83\n",
       "HT_taper_ratio e Wing_area (m²): -0.93\n",
       "HT_taper_ratio e Wing_area (ft²): -0.93\n",
       "HT_taper_ratio e HT_lever_arm (ft): -0.99\n",
       "HT_taper_ratio e Number_of_window_exits: -0.81\n",
       "HT_sweep (deg) e Takeoff_distance(m): 0.89\n",
       "HT_sweep (deg) e Landing_distance(m): 0.95\n",
       "HT_sweep (deg) e Wing_taper_ratio: -0.81\n",
       "HT_sweep (deg) e Wing_sweep(deg): 0.83\n",
       "HT_sweep (deg) e Fuselage_length (m): 0.93\n",
       "HT_sweep (deg) e Main_section_length(m): 0.86\n",
       "HT_sweep (deg) e Number_of_window_exits: 0.84\n",
       "HT_sweep (deg) e Number_of_engines: -0.84\n",
       "HT_lever_arm (ft) e Wing_area (m²): 0.93\n",
       "HT_lever_arm (ft) e Wing_area (ft²): 0.93\n",
       "HT_lever_arm (ft) e HT_taper_ratio: -0.99\n",
       "HT_lever_arm (ft) e Number_of_window_exits: 0.85\n",
       "CHT e Wing_aspect_ratio: -0.89\n",
       "CHT e HT_aspect_ratio: -0.80\n",
       "CHT e CVT: 0.97\n",
       "CHT e Total_maximum_thrust (lbf): 0.81\n",
       "VT_area (ft2) e Wing_aspect_ratio: 0.82\n",
       "VT_area (ft2) e HT_area (m2): 0.86\n",
       "VT_area (ft2) e VT_area (m2): 1.00\n",
       "VT_area (ft2) e Wing_loading: 0.90\n",
       "VT_area (m2) e Wing_aspect_ratio: 0.82\n",
       "VT_area (m2) e HT_area (m2): 0.86\n",
       "VT_area (m2) e VT_area (ft2): 1.00\n",
       "VT_area (m2) e Wing_loading: 0.90\n",
       "VT_aspect_ratio e Number_of_passengers: -0.84\n",
       "VT_aspect_ratio e Wing_dihedral (deg): 0.81\n",
       "VT_aspect_ratio e HT_aspect_ratio: 0.83\n",
       "VT_taper_ratio e MTOW (kg): 0.95\n",
       "VT_taper_ratio e Number_of_passengers: 0.87\n",
       "VT_sweep e Range (NM): 0.87\n",
       "VT_sweep e Takeoff_distance(m): 0.94\n",
       "VT_sweep e Number_of_doors: -0.97\n",
       "VT_sweep e Number_of_window_exits: 0.86\n",
       "VT_lever_arm(ft) e Wing_aspect_ratio: -0.84\n",
       "VT_lever_arm(ft) e Fuselage_diameter (m): -0.84\n",
       "VT_lever_arm(ft) e Wing_loading: -0.82\n",
       "CVT e Range (NM): -0.82\n",
       "CVT e Wing_aspect_ratio: -0.93\n",
       "CVT e CHT: 0.97\n",
       "CVT e Total_maximum_thrust (lbf): 0.84\n",
       "Fuselage_length (m) e Cruise_Mach: 0.84\n",
       "Fuselage_length (m) e Wing_taper_ratio: -0.96\n",
       "Fuselage_length (m) e Wing_sweep(deg): 0.92\n",
       "Fuselage_length (m) e HT_sweep (deg): 0.93\n",
       "Fuselage_length (m) e Main_section_length(m): 0.96\n",
       "Fuselage_length (m) e Number_of_engines: -0.97\n",
       "Fuselage_length (m) e Engine_TSFC: 0.88\n",
       "Cockpit_length(m) e HT_area (m2): 0.96\n",
       "Cockpit_length(m) e Wing_loading: 0.83\n",
       "Main_section_length(m) e Cruise_Mach: 0.89\n",
       "Main_section_length(m) e Wing_taper_ratio: -0.98\n",
       "Main_section_length(m) e Wing_sweep(deg): 0.87\n",
       "Main_section_length(m) e Wing_dihedral (deg): 0.82\n",
       "Main_section_length(m) e HT_sweep (deg): 0.86\n",
       "Main_section_length(m) e Fuselage_length (m): 0.96\n",
       "Main_section_length(m) e Fuselage_diameter (m): -0.86\n",
       "Main_section_length(m) e Number_of_engines: -0.99\n",
       "Main_section_length(m) e Engine_TSFC: 0.97\n",
       "Tail_cone_length(m) e Total_maximum_thrust (lbf): 0.89\n",
       "Fuselage_diameter (m) e Wing_taper_ratio: 0.85\n",
       "Fuselage_diameter (m) e HT_area (m2): 0.82\n",
       "Fuselage_diameter (m) e VT_lever_arm(ft): -0.84\n",
       "Fuselage_diameter (m) e Main_section_length(m): -0.86\n",
       "Fuselage_diameter (m) e Number_of_engines: 0.84\n",
       "Fuselage_diameter (m) e Engine_TSFC: -0.92\n",
       "Fuselage_diameter (m) e Wing_loading: 0.94\n",
       "Number_of_doors e Takeoff_distance(m): -0.94\n",
       "Number_of_doors e VT_sweep: -0.97\n",
       "Number_of_doors e Number_of_window_exits: -0.91\n",
       "Number_of_window_exits e Takeoff_distance(m): 0.95\n",
       "Number_of_window_exits e HT_taper_ratio: -0.81\n",
       "Number_of_window_exits e HT_sweep (deg): 0.84\n",
       "Number_of_window_exits e HT_lever_arm (ft): 0.85\n",
       "Number_of_window_exits e VT_sweep: 0.86\n",
       "Number_of_window_exits e Number_of_doors: -0.91\n",
       "Number_of_engines e Cruise_Mach: -0.93\n",
       "Number_of_engines e Wing_taper_ratio: 1.00\n",
       "Number_of_engines e Wing_sweep(deg): -0.92\n",
       "Number_of_engines e Wing_dihedral (deg): -0.86\n",
       "Number_of_engines e HT_sweep (deg): -0.84\n",
       "Number_of_engines e Fuselage_length (m): -0.97\n",
       "Number_of_engines e Main_section_length(m): -0.99\n",
       "Number_of_engines e Fuselage_diameter (m): 0.84\n",
       "Number_of_engines e Engine_TSFC: -0.97\n",
       "Total_maximum_thrust (lbf) e CHT: 0.81\n",
       "Total_maximum_thrust (lbf) e CVT: 0.84\n",
       "Total_maximum_thrust (lbf) e Tail_cone_length(m): 0.89\n",
       "Engine_TSFC e Cruise_Mach: 0.94\n",
       "Engine_TSFC e Wing_taper_ratio: -0.96\n",
       "Engine_TSFC e Wing_sweep(deg): 0.84\n",
       "Engine_TSFC e Wing_dihedral (deg): 0.91\n",
       "Engine_TSFC e Fuselage_length (m): 0.88\n",
       "Engine_TSFC e Main_section_length(m): 0.97\n",
       "Engine_TSFC e Fuselage_diameter (m): -0.92\n",
       "Engine_TSFC e Number_of_engines: -0.97\n",
       "Wing_loading e HT_area (m2): 0.93\n",
       "Wing_loading e VT_area (ft2): 0.90\n",
       "Wing_loading e VT_area (m2): 0.90\n",
       "Wing_loading e VT_lever_arm(ft): -0.82\n",
       "Wing_loading e Cockpit_length(m): 0.83\n",
       "Wing_loading e Fuselage_diameter (m): 0.94\n"
      ]
     },
     "metadata": {},
     "output_type": "display_data"
    }
   ],
   "source": [
    "# Calculando a matriz de correlação\n",
    "cols = df.columns\n",
    "string_columns = df.select_dtypes(include=['object']).columns\n",
    "\n",
    "correlation_matrix = df.drop(columns=string_columns).corr()\n",
    "\n",
    "plt.figure(figsize=(100, 100))\n",
    "\n",
    "# Criando um heatmap da matriz de correlação\n",
    "sns.heatmap(correlation_matrix, annot=True, cmap='coolwarm', fmt='.2f')\n",
    "\n",
    "# Exibindo o gráfico\n",
    "#plt.show()\n",
    "\n",
    "# Filtrando pares de colunas com correlação superior a 0.8\n",
    "# Criando um DataFrame booleano para detectar correlações superiores a 0.8\n",
    "high_corr_pairs = []\n",
    "\n",
    "for col1 in correlation_matrix.columns:\n",
    "    for col2 in correlation_matrix.columns:\n",
    "        if col1 != col2 and abs(correlation_matrix[col1][col2]) > 0.8:\n",
    "            high_corr_pairs.append((col1, col2, correlation_matrix[col1][col2]))\n",
    "\n",
    "# Exibindo os pares de colunas com correlação > 0.8\n",
    "print(\"\\nPares de colunas com correlação > 0.8:\")\n",
    "for pair in high_corr_pairs:\n",
    "    print(f\"{pair[0]} e {pair[1]}: {pair[2]:.2f}\")\n"
   ]
  },
  {
   "cell_type": "markdown",
   "metadata": {},
   "source": [
    "### Função para fazer os plots"
   ]
  },
  {
   "cell_type": "code",
   "execution_count": null,
   "metadata": {},
   "outputs": [],
   "source": [
    "def plotar(coluna1, coluna2):\n",
    "\n",
    "    df[coluna1] = df[coluna1].astype(str).str.replace(',', '').str.strip()\n",
    "    df[coluna2] = df[coluna2].astype(str).str.replace(',', '').str.strip()\n",
    "\n",
    "    # Converter para float\n",
    "    df[coluna1] = pd.to_numeric(df[coluna1], errors='coerce')\n",
    "    df[coluna2] = pd.to_numeric(df[coluna2], errors='coerce')\n",
    "\n",
    "    X = df[coluna1].values\n",
    "    Y = df[coluna2].values\n",
    "    \n",
    "    # Ajuste polinomial de grau 1\n",
    "    Z = np.polyfit(X, Y, 1)\n",
    "    p = np.poly1d(Z)\n",
    "    print(f\"Relação entre os parâmetros: {coluna2} = {p[0].round(3)} + {p[1].round(3)} {coluna1}\")\n",
    "    \n",
    "    # Predição de valores\n",
    "    Y_pred = p(X)\n",
    "    delta_x = (X.max() - X.min()) / 60\n",
    "    delta_y = (Y.max() - Y.min()) / 25\n",
    "    \n",
    "    # DataFrame auxiliar\n",
    "    df_aviao = df[['Parameter', coluna1, coluna2]].copy()\n",
    "    df_aviao['Y_pred'] = Y_pred\n",
    "    df_aviao.set_index('Parameter', inplace= True)\n",
    "    \n",
    "    plt.figure(figsize=(12, 8))\n",
    "    \n",
    "    # Plot dos dados\n",
    "    plt.scatter(X, Y, label='Dados Históricos', color = 'black')\n",
    "\n",
    "    # Plot da Regressão\n",
    "    sns.set_theme(style=\"white\")\n",
    "    sns.lineplot(x=np.sort(X), y=np.sort(Y_pred), color='gray', linestyle='dashed', label=f'Regressão Linear: f(x) = {p[0].round(3)} + {p[1].round(6)}x')\n",
    "    \n",
    "    # Legenda nos pontos\n",
    "    for index, aviao in df_aviao.iterrows():\n",
    "        x = aviao[coluna1]\n",
    "        y = aviao[coluna2]\n",
    "        y_pred = aviao['Y_pred']\n",
    "        label_x = x - delta_x\n",
    "        label_y = y + delta_y*0.5 if y > y_pred else y - delta_y\n",
    "        plt.text(label_x, label_y, str(index), fontsize=10)\n",
    "\n",
    "    # Legenda e nome dos eixos\n",
    "    plt.xlabel(coluna1, fontsize=16)\n",
    "    plt.ylabel(coluna2, fontsize=16)\n",
    "    plt.legend(fontsize = 14)\n",
    "    \n",
    "    ax = plt.gca()\n",
    "\n",
    "    # Remover os eixos superior e direito\n",
    "    ax.tick_params(axis='x', top=False)\n",
    "    ax.tick_params(axis='y', right=False)\n",
    "    ax.spines['top'].set_visible(False)\n",
    "    ax.spines['right'].set_visible(False)\n",
    "\n",
    "    # Setar espessura dos eixos (inferior e esquerdo) e adicionar os traços\n",
    "    ax.spines['bottom'].set_linewidth(0.6)\n",
    "    ax.spines['left'].set_linewidth(0.6)\n",
    "    ax.tick_params(axis='x', bottom=True, direction='in', length=4, width=0.6)\n",
    "    ax.tick_params(axis='y', left=True, direction='in', length=4, width=0.6)\n",
    "    \n",
    "    plt.grid(False)\n",
    "    \n",
    "    plt.show()\n"
   ]
  },
  {
   "cell_type": "code",
   "execution_count": null,
   "metadata": {},
   "outputs": [
    {
     "data": {
      "text/plain": [
       "Relação entre os parâmetros: Empty_Weight (kg) = 32467.473 + -0.121 MTOW (kg)\n"
      ]
     },
     "metadata": {},
     "output_type": "display_data"
    }
   ],
   "source": [
    "# Peso Vazio x MTOW\n",
    "plotar(\"MTOW (kg)\", \"Empty_Weight (kg)\")"
   ]
  },
  {
   "cell_type": "code",
   "execution_count": null,
   "metadata": {},
   "outputs": [
    {
     "data": {
      "text/plain": [
       "Relação entre os parâmetros: MTOW (kg) = -211.262 + 460.109 Number_of_passengers\n"
      ]
     },
     "metadata": {},
     "output_type": "display_data"
    }
   ],
   "source": [
    "# Número de passageiros x MTOW\n",
    "plotar(\"Number_of_passengers\", \"MTOW (kg)\")"
   ]
  },
  {
   "cell_type": "code",
   "execution_count": null,
   "metadata": {},
   "outputs": [
    {
     "data": {
      "text/plain": [
       "Relação entre os parâmetros: Fuselage_length (m) = 35.278 + -0.043 Number_of_passengers\n"
      ]
     },
     "metadata": {},
     "output_type": "display_data"
    }
   ],
   "source": [
    "# Número de passageiros x Comprimento de fuselagem\n",
    "plotar(\"Number_of_passengers\", \"Fuselage_length (m)\")"
   ]
  },
  {
   "cell_type": "code",
   "execution_count": null,
   "metadata": {},
   "outputs": [
    {
     "data": {
      "text/plain": [
       "Relação entre os parâmetros: Wing_sweep(deg) = -15.321 + 50.156 Cruise_Mach\n"
      ]
     },
     "metadata": {},
     "output_type": "display_data"
    }
   ],
   "source": [
    "# Mach de cruzeiro x Enflechamento da asa\n",
    "plotar(\"Cruise_Mach\", \"Wing_sweep(deg)\")"
   ]
  },
  {
   "cell_type": "code",
   "execution_count": null,
   "metadata": {},
   "outputs": [
    {
     "data": {
      "text/plain": [
       "Relação entre os parâmetros: Wing_area (ft²) = 16.934 + 0.02 MTOW (kg)\n"
      ]
     },
     "metadata": {},
     "output_type": "display_data"
    }
   ],
   "source": [
    "# MTOW x Área da asa\n",
    "plotar(\"MTOW (kg)\", \"Wing_area (ft²)\")"
   ]
  },
  {
   "cell_type": "code",
   "execution_count": null,
   "metadata": {},
   "outputs": [
    {
     "data": {
      "text/plain": [
       "Relação entre os parâmetros: Range (NM) = 139.243 + 0.035 MTOW (kg)\n"
      ]
     },
     "metadata": {},
     "output_type": "display_data"
    }
   ],
   "source": [
    "# MTOW x Range\n",
    "plotar(\"MTOW (kg)\", \"Range (NM)\")"
   ]
  },
  {
   "cell_type": "code",
   "execution_count": null,
   "metadata": {},
   "outputs": [
    {
     "data": {
      "text/plain": [
       "Relação entre os parâmetros: Total_maximum_thrust (lbf) = -3849.936 + 0.731 MTOW (kg)\n"
      ]
     },
     "metadata": {},
     "output_type": "display_data"
    }
   ],
   "source": [
    "# MTOW x TSFC\n",
    "plotar(\"MTOW (kg)\", \"Total_maximum_thrust (lbf)\")\n"
   ]
  },
  {
   "cell_type": "code",
   "execution_count": null,
   "metadata": {},
   "outputs": [
    {
     "data": {
      "text/plain": [
       "Relação entre os parâmetros: Landing_distance(m) = 253.732 + 0.711 Takeoff_distance(m)\n"
      ]
     },
     "metadata": {},
     "output_type": "display_data"
    }
   ],
   "source": [
    "# Takeoff_distance x Landing_distance\n",
    "plotar(\"Takeoff_distance(m)\", \"Landing_distance(m)\")"
   ]
  },
  {
   "cell_type": "code",
   "execution_count": null,
   "metadata": {},
   "outputs": [
    {
     "data": {
      "text/plain": [
       "Relação entre os parâmetros: VT_area (ft2) = -6.943 + 8.425 HT_area (m2)\n"
      ]
     },
     "metadata": {},
     "output_type": "display_data"
    }
   ],
   "source": [
    "# HT_area x VT_area\n",
    "plotar(\"HT_area (m2)\", \"VT_area (ft2)\")"
   ]
  }
 ],
 "metadata": {
  "kernelspec": {
   "display_name": "base",
   "language": "python",
   "name": "python3"
  },
  "language_info": {
   "codemirror_mode": {
    "name": "ipython",
    "version": 3
   },
   "file_extension": ".py",
   "mimetype": "text/x-python",
   "name": "python",
   "nbconvert_exporter": "python",
   "pygments_lexer": "ipython3",
   "version": "3.9.13"
  }
 },
 "nbformat": 4,
 "nbformat_minor": 2
}
