{
 "cells": [
  {
   "cell_type": "code",
   "execution_count": 14,
   "metadata": {},
   "outputs": [],
   "source": [
    "import pandas as pd\n",
    "import matplotlib.pyplot as plt\n",
    "import numpy as np\n",
    "import seaborn as sns"
   ]
  },
  {
   "cell_type": "markdown",
   "metadata": {},
   "source": [
    "### Dados"
   ]
  },
  {
   "cell_type": "code",
   "execution_count": null,
   "metadata": {},
   "outputs": [],
   "source": [
    "# Importar dados\n",
    "df = pd.read_csv('https://docs.google.com/spreadsheets/d/e/2PACX-1vSr7tU5tK8cvvR32yypE1PArgXhmNbFJ9bw8w6Sm2zQhyaMs27csoo-77vgFedHw9z25Ez3Qm-geKyU/pub?gid=43084471&single=true&output=csv', skiprows= 1)\n",
    "\n",
    "df.drop(columns='Unnamed: 0', inplace= True)\n",
    "df.reset_index(drop = True)\n",
    "df"
   ]
  },
  {
   "cell_type": "markdown",
   "metadata": {},
   "source": [
    "### Função para fazer os plots"
   ]
  },
  {
   "cell_type": "code",
   "execution_count": null,
   "metadata": {},
   "outputs": [],
   "source": [
    "def plotar(coluna1, coluna2):\n",
    "\n",
    "    df[coluna1] = df[coluna1].astype(str).str.replace(',', '').str.strip()\n",
    "    df[coluna2] = df[coluna2].astype(str).str.replace(',', '').str.strip()\n",
    "\n",
    "    # Converter para float\n",
    "    df[coluna1] = pd.to_numeric(df[coluna1], errors='coerce')\n",
    "    df[coluna2] = pd.to_numeric(df[coluna2], errors='coerce')\n",
    "\n",
    "    X = df[coluna1].values\n",
    "    Y = df[coluna2].values\n",
    "    \n",
    "    # Ajuste polinomial de grau 1\n",
    "    Z = np.polyfit(X, Y, 1)\n",
    "    p = np.poly1d(Z)\n",
    "    print(f\"Relação entre os parâmetros: {coluna2} = {p[0].round(3)} + {p[1].round(3)} {coluna1}\")\n",
    "    \n",
    "    # Predição de valores\n",
    "    Y_pred = p(X)\n",
    "    delta_x = (X.max() - X.min()) / 60\n",
    "    delta_y = (Y.max() - Y.min()) / 25\n",
    "    \n",
    "    # DataFrame auxiliar\n",
    "    df_aviao = df[['Parameter', coluna1, coluna2]].copy()\n",
    "    df_aviao['Y_pred'] = Y_pred\n",
    "    df_aviao.set_index('Parameter', inplace= True)\n",
    "    \n",
    "    plt.figure(figsize=(12, 8))\n",
    "    \n",
    "    # Plot dos dados\n",
    "    plt.scatter(X, Y, label='Dados Históricos', color = 'black')\n",
    "\n",
    "    # Plot da Regressão\n",
    "    sns.set_theme(style=\"white\")\n",
    "    sns.lineplot(x=np.sort(X), y=np.sort(Y_pred), color='gray', linestyle='dashed', label=f'Regressão Linear: f(x) = {p[0].round(3)} + {p[1].round(6)}x')\n",
    "    \n",
    "    # Legenda nos pontos\n",
    "    for index, aviao in df_aviao.iterrows():\n",
    "        x = aviao[coluna1]\n",
    "        y = aviao[coluna2]\n",
    "        y_pred = aviao['Y_pred']\n",
    "        label_x = x - delta_x\n",
    "        label_y = y + delta_y*0.5 if y > y_pred else y - delta_y\n",
    "        plt.text(label_x, label_y, str(index), fontsize=10)\n",
    "\n",
    "    # Legenda e nome dos eixos\n",
    "    plt.xlabel(coluna1, fontsize=16)\n",
    "    plt.ylabel(coluna2, fontsize=16)\n",
    "    plt.legend(fontsize = 14)\n",
    "    \n",
    "    ax = plt.gca()\n",
    "\n",
    "    # Remover os eixos superior e direito\n",
    "    ax.tick_params(axis='x', top=False)\n",
    "    ax.tick_params(axis='y', right=False)\n",
    "    ax.spines['top'].set_visible(False)\n",
    "    ax.spines['right'].set_visible(False)\n",
    "\n",
    "    # Setar espessura dos eixos (inferior e esquerdo) e adicionar os traços\n",
    "    ax.spines['bottom'].set_linewidth(0.6)\n",
    "    ax.spines['left'].set_linewidth(0.6)\n",
    "    ax.tick_params(axis='x', bottom=True, direction='in', length=4, width=0.6)\n",
    "    ax.tick_params(axis='y', left=True, direction='in', length=4, width=0.6)\n",
    "    \n",
    "    plt.grid(False)\n",
    "    \n",
    "    plt.show()\n"
   ]
  },
  {
   "cell_type": "code",
   "execution_count": null,
   "metadata": {},
   "outputs": [
    {
     "data": {
      "text/plain": [
       "Relação entre os parâmetros: Empty_Weight = 996.768 + 0.559 MTOW\n"
      ]
     },
     "metadata": {},
     "output_type": "display_data"
    }
   ],
   "source": [
    "# Peso Vazio x MTOW\n",
    "\n",
    "plotar(\"MTOW\", \"Empty_Weight\")\n"
   ]
  },
  {
   "cell_type": "code",
   "execution_count": null,
   "metadata": {},
   "outputs": [],
   "source": [
    "# Número de passageiros x MTOW"
   ]
  },
  {
   "cell_type": "code",
   "execution_count": null,
   "metadata": {},
   "outputs": [],
   "source": [
    "# Número de passageiros x Comprimento de fuselagem"
   ]
  }
 ],
 "metadata": {
  "kernelspec": {
   "display_name": "base",
   "language": "python",
   "name": "python3"
  },
  "language_info": {
   "codemirror_mode": {
    "name": "ipython",
    "version": 3
   },
   "file_extension": ".py",
   "mimetype": "text/x-python",
   "name": "python",
   "nbconvert_exporter": "python",
   "pygments_lexer": "ipython3",
   "version": "3.9.13"
  }
 },
 "nbformat": 4,
 "nbformat_minor": 2
}
