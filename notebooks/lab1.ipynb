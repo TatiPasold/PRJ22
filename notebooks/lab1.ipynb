{
 "cells": [
  {
   "cell_type": "code",
   "execution_count": null,
   "metadata": {},
   "outputs": [],
   "source": [
    "import pandas as pd\n",
    "import matplotlib.pyplot as plt\n",
    "import numpy as np\n",
    "import seaborn as sns"
   ]
  },
  {
   "cell_type": "markdown",
   "metadata": {},
   "source": [
    "### Dados"
   ]
  },
  {
   "cell_type": "code",
   "execution_count": null,
   "metadata": {},
   "outputs": [],
   "source": [
    "# Importar dados\n",
    "df = pd.read_csv('https://docs.google.com/spreadsheets/d/e/2PACX-1vSr7tU5tK8cvvR32yypE1PArgXhmNbFJ9bw8w6Sm2zQhyaMs27csoo-77vgFedHw9z25Ez3Qm-geKyU/pub?gid=43084471&single=true&output=csv', skiprows= 1)\n",
    "\n",
    "df.drop(columns='Unnamed: 0', inplace= True)\n",
    "df.reset_index(drop = True)\n",
    "df = df.head(9)"
   ]
  },
  {
   "cell_type": "markdown",
   "metadata": {},
   "source": [
    "### Matriz de correlação"
   ]
  },
  {
   "cell_type": "code",
   "execution_count": null,
   "metadata": {},
   "outputs": [],
   "source": [
    "# Calculando a matriz de correlação\n",
    "cols = df.columns\n",
    "string_columns = df.select_dtypes(include=['object']).columns\n",
    "\n",
    "correlation_matrix = df.drop(columns=string_columns).corr()\n",
    "\n",
    "plt.figure(figsize=(100, 100))\n",
    "\n",
    "# Criando um heatmap da matriz de correlação\n",
    "sns.heatmap(correlation_matrix, annot=True, cmap='coolwarm', fmt='.2f')\n",
    "\n",
    "# Exibindo o gráfico\n",
    "#plt.show()\n",
    "\n",
    "# Filtrando pares de colunas com correlação superior a 0.8\n",
    "# Criando um DataFrame booleano para detectar correlações superiores a 0.8\n",
    "high_corr_pairs = []\n",
    "\n",
    "for col1 in correlation_matrix.columns:\n",
    "    for col2 in correlation_matrix.columns:\n",
    "        if col1 != col2 and abs(correlation_matrix[col1][col2]) > 0.8:\n",
    "            high_corr_pairs.append((col1, col2, correlation_matrix[col1][col2]))\n",
    "\n",
    "# Exibindo os pares de colunas com correlação > 0.8\n",
    "print(\"\\nPares de colunas com correlação > 0.8:\")\n",
    "for pair in high_corr_pairs:\n",
    "    print(f\"{pair[0]} e {pair[1]}: {pair[2]:.2f}\")\n"
   ]
  },
  {
   "cell_type": "markdown",
   "metadata": {},
   "source": [
    "### Função para fazer os plots"
   ]
  },
  {
   "cell_type": "code",
   "execution_count": null,
   "metadata": {},
   "outputs": [],
   "source": [
    "def plotar(df, coluna1, coluna2):\n",
    "    \"\"\" Plota a relação entre duas variáveis, destacando outliers e ajustando uma regressão linear(sem outliers). \"\"\"\n",
    "\n",
    "    df[coluna1] = pd.to_numeric(df[coluna1].astype(str).str.replace(',', '').str.strip(), errors='coerce')\n",
    "    df[coluna2] = pd.to_numeric(df[coluna2].astype(str).str.replace(',', '').str.strip(), errors='coerce')\n",
    "\n",
    "    df_valid = df.dropna(subset=[coluna1, coluna2])\n",
    "\n",
    "    X = df_valid[coluna1].values\n",
    "    Y = df_valid[coluna2].values\n",
    "\n",
    "    # Regressão linear inicial para ver outliers\n",
    "    Z1 = np.polyfit(X, Y, 1)\n",
    "    p1 = np.poly1d(Z1)\n",
    "    Y_pred1 = p1(X)\n",
    "\n",
    "    # Cálculo do erro e desvio padrão para ver os outliers\n",
    "    erros = Y - Y_pred1\n",
    "    desvio_padrao = np.std(erros)\n",
    "\n",
    "    # Vamos usar com 1.5\n",
    "    limite_inferior = Y_pred1 - 1.5 * desvio_padrao\n",
    "    limite_superior = Y_pred1 + 1.5 * desvio_padrao\n",
    "    mascara = (Y >= limite_inferior) & (Y <= limite_superior)\n",
    "\n",
    "    # Separação dos dados filtrados e outliers\n",
    "    X_filtrado, Y_filtrado = X[mascara], Y[mascara]\n",
    "    X_outliers, Y_outliers = X[~mascara], Y[~mascara]\n",
    "\n",
    "    # Regressão linear final com dados filtrados(essa que vamos plotar)\n",
    "    Z2 = np.polyfit(X_filtrado, Y_filtrado, 1)\n",
    "    p2 = np.poly1d(Z2)\n",
    "    \n",
    "    plt.figure(figsize=(12, 8))\n",
    "\n",
    "    # pontos normais e outliers\n",
    "    plt.scatter(X_filtrado, Y_filtrado, label='Dados Filtrados', color='black')\n",
    "    plt.scatter(X_outliers, Y_outliers, label='Outliers', color='blue')\n",
    "\n",
    "    # Regressão linear\n",
    "    sns.lineplot(x=np.sort(X), y=p2(np.sort(X)), color='gray', linestyle='dotted',\n",
    "                 label=f'Regressão Linear: f(x) = {p2[0].round(3)} + {p2[1].round(6)} x')\n",
    "\n",
    "    # Esses deltas são para as labels\n",
    "    delta_x = (X_filtrado.max() - X_filtrado.min()) / 50\n",
    "    delta_y = (Y_filtrado.max() - Y_filtrado.min()) / 14\n",
    "\n",
    "    posicoes_rotulos = []\n",
    "    # se estiver abaixo da reta, a label vai em cima, se estiver em baixo, vai em baixo\n",
    "    for index, aviao in df_valid.iterrows():\n",
    "        x, y, y_pred = aviao[coluna1], aviao[coluna2], p2(aviao[coluna1])\n",
    "        label_x, label_y = x - delta_x, y + delta_y * 0.6 if y > y_pred else y - delta_y*1.5\n",
    "\n",
    "        # Isso é para evitar sobreposição de labels\n",
    "        for px, py in posicoes_rotulos:\n",
    "            if abs(label_x - px) < delta_x * 1.5 and abs(label_y - py) < delta_y * 1.5:\n",
    "                label_y += delta_y\n",
    "\n",
    "        posicoes_rotulos.append((label_x, label_y))\n",
    "        plt.text(label_x, label_y, aviao['Parameter'], fontsize=16)\n",
    "\n",
    "    plt.xlabel(coluna1, fontsize=18)\n",
    "    plt.ylabel(coluna2, fontsize=18)\n",
    "    plt.legend(fontsize=18)\n",
    "\n",
    "    ax = plt.gca()\n",
    "    ax.tick_params(axis='x', top=False, labelsize=15)\n",
    "    ax.tick_params(axis='y', right=False, labelsize=15)\n",
    "    ax.spines['top'].set_visible(False)\n",
    "    ax.spines['right'].set_visible(False)\n",
    "\n",
    "    plt.grid(False)\n",
    "    plt.show()\n",
    "    \n",
    "    return p2[0], p2[1]"
   ]
  },
  {
   "cell_type": "code",
   "execution_count": null,
   "metadata": {},
   "outputs": [],
   "source": [
    "a, b = plotar(df, \"Number_of_passengers\", \"MTOW (kg)\")"
   ]
  },
  {
   "cell_type": "code",
   "execution_count": null,
   "metadata": {},
   "outputs": [],
   "source": [
    "1668.604+435.967279*92"
   ]
  },
  {
   "cell_type": "code",
   "execution_count": null,
   "metadata": {},
   "outputs": [],
   "source": [
    "df[\"Esbeltez\"] = df[\"Fuselage_length (m)\"]/df[\"Fuselage_diameter (m)\"]"
   ]
  },
  {
   "cell_type": "code",
   "execution_count": null,
   "metadata": {},
   "outputs": [],
   "source": [
    "a, b = plotar(df, \"Number_of_passengers\", \"Esbeltez\")"
   ]
  },
  {
   "cell_type": "code",
   "execution_count": null,
   "metadata": {},
   "outputs": [],
   "source": [
    "a, b = plotar(df, \"MTOW (kg)\", \"Empty_Weight (kg)\")"
   ]
  },
  {
   "cell_type": "code",
   "execution_count": null,
   "metadata": {},
   "outputs": [],
   "source": [
    "# Número de passageiros x Comprimento de fuselagem\n",
    "a, b = plotar(df, \"Number_of_passengers\", \"Fuselage_diameter (m)\")"
   ]
  },
  {
   "cell_type": "code",
   "execution_count": null,
   "metadata": {},
   "outputs": [],
   "source": [
    "# MTOW x Área da asa\n",
    "a, b = plotar(df, \"MTOW (kg)\", \"Wing_area (ft²)\")"
   ]
  },
  {
   "cell_type": "code",
   "execution_count": null,
   "metadata": {},
   "outputs": [],
   "source": [
    "# MTOW x Range\n",
    "a, b = plotar(df, \"MTOW (kg)\", \"Range (NM)\")"
   ]
  },
  {
   "cell_type": "code",
   "execution_count": null,
   "metadata": {},
   "outputs": [],
   "source": [
    "# MTOW x TSFC\n",
    "a, b = plotar(df, \"MTOW (kg)\", \"Total_maximum_thrust (lbf)\")\n"
   ]
  },
  {
   "cell_type": "code",
   "execution_count": null,
   "metadata": {},
   "outputs": [],
   "source": [
    "# Takeoff_distance x Landing_distance\n",
    "a, b = plotar(df, \"Takeoff_distance(m)\", \"Landing_distance(m)\")"
   ]
  },
  {
   "cell_type": "code",
   "execution_count": null,
   "metadata": {},
   "outputs": [],
   "source": [
    "# HT_area x VT_area\n",
    "a, b =plotar(df, \"HT_area (m2)\", \"VT_area (ft2)\")"
   ]
  }
 ],
 "metadata": {
  "kernelspec": {
   "display_name": "base",
   "language": "python",
   "name": "python3"
  },
  "language_info": {
   "codemirror_mode": {
    "name": "ipython",
    "version": 3
   },
   "file_extension": ".py",
   "mimetype": "text/x-python",
   "name": "python",
   "nbconvert_exporter": "python",
   "pygments_lexer": "ipython3",
   "version": "3.9.12"
  }
 },
 "nbformat": 4,
 "nbformat_minor": 2
}
